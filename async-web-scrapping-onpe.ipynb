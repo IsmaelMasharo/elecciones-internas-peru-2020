{
 "cells": [
  {
   "cell_type": "code",
   "execution_count": 103,
   "metadata": {},
   "outputs": [],
   "source": [
    "import requests\n",
    "import asyncio\n",
    "from aiohttp import ClientSession\n",
    "\n",
    "import pandas as pd"
   ]
  },
  {
   "cell_type": "markdown",
   "metadata": {},
   "source": [
    "### Helpers"
   ]
  },
  {
   "cell_type": "code",
   "execution_count": 2,
   "metadata": {},
   "outputs": [],
   "source": [
    "# Dont do this, create a new session per context instead\n",
    "# aioSession = ClientSession()"
   ]
  },
  {
   "cell_type": "code",
   "execution_count": 3,
   "metadata": {},
   "outputs": [],
   "source": [
    "# https://stackoverflow.com/questions/48840378/python-attempt-to-decode-json-with-unexpected-mimetype\n",
    "async def fetch(url, session, method='GET'):\n",
    "    try:\n",
    "        response = await session.request(method=method, url=url)\n",
    "        response.raise_for_status()\n",
    "        return await response.json(content_type=None)\n",
    "    except Exception as err:\n",
    "        print(f\"An error ocurred: {err}\")"
   ]
  },
  {
   "cell_type": "markdown",
   "metadata": {},
   "source": [
    "### URLs"
   ]
  },
  {
   "cell_type": "code",
   "execution_count": 4,
   "metadata": {},
   "outputs": [],
   "source": [
    "base_url = 'https://resultados.onpe.gob.pe/v1'\n",
    "\n",
    "organizaciones_politicas_url = f'{base_url}/IN2020/agpcand/D40015'\n",
    "tipo_elecciones_partido_url = f'{base_url}/IN2020/elecciones'\n",
    "\n",
    "resumen_partido_url = f'{base_url}/IN2020/summary/actas'\n",
    "\n",
    "resultados_elecciones_presidencialtes_url = f'{base_url}/IN2020/results/10/800000'\n",
    "resultados_elecciones_parlamento_andino_url = f'{base_url}/IN2020/results/12/800000'\n",
    "resultados_elecciones_congresales_url = f'{base_url}/IN2020/results/11/D43015'\n",
    "# resultados_elecciones_congresales_por_distrito_electoral_url = f'{base_url}/IN2020/results/11/D43000/'\n",
    "\n",
    "\n",
    "ubigeos_regionales_por_partido_url = f'{base_url}/DE2020/ubigeos/01'\n",
    "ubigeos_provinciales_por_partido_url = f'{base_url}/DE2020/ubigeos/03'\n",
    "ubigeos_distritales_por_partido_url = f'{base_url}/DE2020/ubigeos/04'\n",
    "resultados_elecciones_delegados_regional_url = f'{base_url}/DE2020/results/01'\n",
    "resultados_elecciones_delegados_provincial_url = f'{base_url}/DE2020/results/03'\n",
    "resultados_elecciones_delegados_distritales_url = f'{base_url}/DE2020/results/04'\n",
    "\n",
    "iconos_organizaciones_url = 'https://resultados.onpe.gob.pe/IN2020/assets/iconos/iconos_reales'"
   ]
  },
  {
   "cell_type": "markdown",
   "metadata": {},
   "source": [
    "---\n",
    "## Consulta de Datos"
   ]
  },
  {
   "cell_type": "markdown",
   "metadata": {},
   "source": [
    "### Lista de organizaciones políticas"
   ]
  },
  {
   "cell_type": "code",
   "execution_count": 5,
   "metadata": {},
   "outputs": [],
   "source": [
    "def parse_org_politicas(org):\n",
    "    org_parsed = dict(\n",
    "        organizacion=org['C_DESC_AGRUPOL'], \n",
    "        codigo=org['C_CODI_AGRUPOL'],\n",
    "        codigo_corto=org['C_CODI_AGRUPOL'][-2:]\n",
    "    )\n",
    "    return org_parsed\n",
    "\n",
    "def fetch_org_politicas():\n",
    "    organizaciones = requests.get(organizaciones_politicas_url).json()['organizaciones']\n",
    "    organizaciones_parsed = []\n",
    "    for org in organizaciones:\n",
    "        organizaciones_parsed.append(parse_org_politicas(org))\n",
    "    return organizaciones_parsed"
   ]
  },
  {
   "cell_type": "code",
   "execution_count": 6,
   "metadata": {},
   "outputs": [],
   "source": [
    "organizaciones_politicas = fetch_org_politicas()"
   ]
  },
  {
   "cell_type": "code",
   "execution_count": 7,
   "metadata": {},
   "outputs": [
    {
     "data": {
      "text/plain": [
       "{'organizacion': 'ACCION POPULAR', 'codigo': '00000002', 'codigo_corto': '02'}"
      ]
     },
     "execution_count": 7,
     "metadata": {},
     "output_type": "execute_result"
    }
   ],
   "source": [
    "organizaciones_politicas[0]"
   ]
  },
  {
   "cell_type": "markdown",
   "metadata": {},
   "source": [
    "### Detalles básicos"
   ]
  },
  {
   "cell_type": "code",
   "execution_count": 8,
   "metadata": {},
   "outputs": [],
   "source": [
    "def clean_resumen_general(resumen):\n",
    "    resumen_parsed = dict(\n",
    "        electores_habiles=int(resumen['n_elec_habil'].replace(',', '')),\n",
    "        cantidad_mesas=int(resumen['n_num_mesas']),\n",
    "        cantidad_locales=int(resumen['locales']),\n",
    "    )\n",
    "    return resumen_parsed\n",
    "\n",
    "async def fetch_org_base_detail(org):\n",
    "    async with ClientSession() as session:\n",
    "        tipo_elecciones_url = f'{tipo_elecciones_partido_url}/{org[\"codigo\"]}'\n",
    "        resumen_general_url = f'{resumen_partido_url}/{org[\"codigo_corto\"]}'\n",
    "        urls = [tipo_elecciones_url, resumen_general_url]\n",
    "        tipo_elecciones, resumen_general = await asyncio.gather(*[fetch(url, session) for url in urls])\n",
    "\n",
    "        org['tipo_elecciones'] = tipo_elecciones['elecciones']\n",
    "        org['resumen_general'] = clean_resumen_general(resumen_general)\n",
    "\n",
    "        return org\n",
    "    \n",
    "async def fetch_all_base_details():\n",
    "    return await asyncio.gather(\n",
    "        *[fetch_org_base_detail(org) for org in organizaciones_politicas]\n",
    "    )"
   ]
  },
  {
   "cell_type": "code",
   "execution_count": 9,
   "metadata": {},
   "outputs": [],
   "source": [
    "org_detalles_basicos = await fetch_all_base_details()"
   ]
  },
  {
   "cell_type": "code",
   "execution_count": 10,
   "metadata": {},
   "outputs": [
    {
     "data": {
      "text/plain": [
       "{'organizacion': 'ACCION POPULAR',\n",
       " 'codigo': '00000002',\n",
       " 'codigo_corto': '02',\n",
       " 'tipo_elecciones': ['10', '12', '11'],\n",
       " 'resumen_general': {'electores_habiles': 221946,\n",
       "  'cantidad_mesas': 326,\n",
       "  'cantidad_locales': 127}}"
      ]
     },
     "execution_count": 10,
     "metadata": {},
     "output_type": "execute_result"
    }
   ],
   "source": [
    "org_detalles_basicos[0]"
   ]
  },
  {
   "cell_type": "markdown",
   "metadata": {},
   "source": [
    "### Resultados elecciones por organización política"
   ]
  },
  {
   "cell_type": "code",
   "execution_count": 11,
   "metadata": {},
   "outputs": [],
   "source": [
    "def get_general_data_results(resultados):\n",
    "    general_data = resultados['generals']['generalData']\n",
    "    relevant_data = {}\n",
    "    if general_data:\n",
    "        relevant_data['ELECTORES_HABIL'] = int(general_data['ELECTORES_HABIL'].replace(',', ''))\n",
    "        relevant_data['TOT_CIUDADANOS_VOTARON'] = int(general_data['TOT_CIUDADANOS_VOTARON'].replace(',', ''))\n",
    "        relevant_data['POR_PROCESAR'] = int(general_data['POR_PROCESAR'].replace(',', ''))\n",
    "    return relevant_data"
   ]
  },
  {
   "cell_type": "markdown",
   "metadata": {},
   "source": [
    "#### Elecciones por Delegados"
   ]
  },
  {
   "cell_type": "code",
   "execution_count": 12,
   "metadata": {},
   "outputs": [],
   "source": [
    "def get_eleccion_delegados_params(tipo_eleccion):\n",
    "    tipo = ''\n",
    "    resultados_url = ''\n",
    "    ubigeos_url = ''\n",
    "\n",
    "    region_level = ''\n",
    "    region_level_code = ''\n",
    "    region_level_descripcion = ''\n",
    "\n",
    "    if tipo_eleccion == '01':\n",
    "        tipo = 'delegados_regional'\n",
    "        resultados_url = resultados_elecciones_delegados_regional_url\n",
    "        ubigeos_url = ubigeos_regionales_por_partido_url\n",
    "        region_level = 'departments'\n",
    "        region_level_code = 'CDGO_DEP'\n",
    "        region_level_descripcion = 'DESC_DEP'\n",
    "    elif tipo_eleccion == '03':\n",
    "        tipo = 'delegados_provincial'\n",
    "        resultados_url = resultados_elecciones_delegados_provincial_url\n",
    "        ubigeos_url = ubigeos_provinciales_por_partido_url\n",
    "        region_level = 'provinces'\n",
    "        region_level_code = 'CDGO_PROV'\n",
    "        region_level_descripcion = 'DESC_PROV'\n",
    "    elif tipo_eleccion == '04':\n",
    "        tipo = 'delegados_distritales'\n",
    "        resultados_url = resultados_elecciones_delegados_distritales_url\n",
    "        ubigeos_url = ubigeos_distritales_por_partido_url\n",
    "        region_level = 'districts'\n",
    "        region_level_code = 'CDGO_DIST'\n",
    "        region_level_descripcion = 'DESC_DIST'\n",
    "    else:\n",
    "        print('error al consultar tipo de eleccion no hay data')\n",
    "\n",
    "    return (\n",
    "        tipo,\n",
    "        resultados_url,\n",
    "        ubigeos_url,\n",
    "        region_level,\n",
    "        region_level_code,\n",
    "        region_level_descripcion\n",
    "    )"
   ]
  },
  {
   "cell_type": "code",
   "execution_count": 13,
   "metadata": {},
   "outputs": [],
   "source": [
    "def get_eleccion_delegados_resultados_rollup(resultados):\n",
    "    electores_habiles = 0\n",
    "    electores_participaron = 0\n",
    "    por_procesar = 0\n",
    "    for resultado in resultados:\n",
    "        electores_habiles += resultado['resultados']['ELECTORES_HABIL']\n",
    "        electores_participaron += resultado['resultados']['TOT_CIUDADANOS_VOTARON']\n",
    "        por_procesar += resultado['resultados']['POR_PROCESAR']\n",
    "\n",
    "    resultados_rollup = dict(\n",
    "        ELECTORES_HABIL=electores_habiles,\n",
    "        TOT_CIUDADANOS_VOTARON=electores_participaron,\n",
    "        POR_PROCESAR=por_procesar\n",
    "    )\n",
    "    \n",
    "    return resultados_rollup"
   ]
  },
  {
   "cell_type": "code",
   "execution_count": 14,
   "metadata": {},
   "outputs": [],
   "source": [
    "async def eleccion_delegados_results_by_ubigeo(\n",
    "    org, level_ubigeo, resultados_url, region_level_code, region_level_descripcion\n",
    "):\n",
    "    async with ClientSession() as session:\n",
    "        ubigeo_results_url = f'{resultados_url}/{level_ubigeo[region_level_code]}/{org[\"codigo\"]}'\n",
    "        resultados_por_nivel_region = await fetch(ubigeo_results_url, session)\n",
    "\n",
    "        general_data = get_general_data_results(resultados_por_nivel_region)\n",
    "\n",
    "        nivel_region_detalle = dict(\n",
    "            nombre=level_ubigeo[region_level_descripcion],\n",
    "            codigo=level_ubigeo[region_level_code],\n",
    "            codigo_padre=level_ubigeo['CDGO_PADRE'],\n",
    "            resultados=general_data\n",
    "        )\n",
    "\n",
    "        return nivel_region_detalle"
   ]
  },
  {
   "cell_type": "code",
   "execution_count": 15,
   "metadata": {},
   "outputs": [],
   "source": [
    "async def process_eleccion_delegados(org, tipo_eleccion):\n",
    "    (tipo,\n",
    "    resultados_url,\n",
    "    ubigeos_url,\n",
    "    region_level,\n",
    "    region_level_code,\n",
    "    region_level_descripcion) = get_eleccion_delegados_params(tipo_eleccion)\n",
    "\n",
    "    # fetch ubigeos\n",
    "    ubigeos_list_url = f'{ubigeos_url}/{org[\"codigo\"]}'\n",
    "    async with ClientSession() as session:\n",
    "        ubigeos = await fetch(ubigeos_list_url, session)\n",
    "\n",
    "    # fetch results by ubigeo\n",
    "    results_by_ubigeo = []\n",
    "    for level_ubigeo in ubigeos[region_level]:\n",
    "        ubigeo_result = eleccion_delegados_results_by_ubigeo(\n",
    "            org, level_ubigeo, resultados_url, region_level_code, region_level_descripcion\n",
    "        )\n",
    "        results_by_ubigeo.append(ubigeo_result)\n",
    "    resultados = await asyncio.gather(*results_by_ubigeo)\n",
    "    \n",
    "    resultados_rollup = get_eleccion_delegados_resultados_rollup(resultados)\n",
    "\n",
    "    return dict(\n",
    "        resultados=resultados_rollup, \n",
    "#         resultados_rollup=resultados_rollup, \n",
    "        tipo=tipo, region_level=region_level\n",
    "    )"
   ]
  },
  {
   "cell_type": "code",
   "execution_count": 16,
   "metadata": {},
   "outputs": [
    {
     "data": {
      "text/plain": [
       "{'resultados': {'ELECTORES_HABIL': 224604,\n",
       "  'TOT_CIUDADANOS_VOTARON': 4807,\n",
       "  'POR_PROCESAR': 0},\n",
       " 'tipo': 'delegados_regional',\n",
       " 'region_level': 'departments'}"
      ]
     },
     "execution_count": 16,
     "metadata": {},
     "output_type": "execute_result"
    }
   ],
   "source": [
    "await process_eleccion_delegados(org_detalles_basicos[1], '01')"
   ]
  },
  {
   "cell_type": "markdown",
   "metadata": {},
   "source": [
    "#### Elecciones Universales (1 militante 1 voto)"
   ]
  },
  {
   "cell_type": "code",
   "execution_count": 17,
   "metadata": {},
   "outputs": [],
   "source": [
    "def get_eleccion_por_elector_params(tipo_eleccion):\n",
    "    tipo = ''\n",
    "    url = ''\n",
    "    if tipo_eleccion == '10':\n",
    "        tipo = 'presidenciales'\n",
    "        url = resultados_elecciones_presidencialtes_url\n",
    "    elif tipo_eleccion == '11':\n",
    "        tipo = 'congresales'\n",
    "        url = resultados_elecciones_congresales_url\n",
    "    elif tipo_eleccion == '12':\n",
    "        tipo = 'parlamento_andino'\n",
    "        url = resultados_elecciones_parlamento_andino_url\n",
    "        \n",
    "    return (tipo, url)"
   ]
  },
  {
   "cell_type": "code",
   "execution_count": 18,
   "metadata": {},
   "outputs": [],
   "source": [
    "async def process_eleccion_por_elector(org, tipo_eleccion):\n",
    "    (tipo, url) = get_eleccion_por_elector_params(tipo_eleccion)\n",
    "    \n",
    "    async with ClientSession() as session:\n",
    "        results_url = f'{url}/{org[\"codigo\"]}'\n",
    "        resultados = await fetch(results_url, session)\n",
    "\n",
    "        general_data = get_general_data_results(resultados)\n",
    "        \n",
    "        return dict(resultados=general_data, tipo=tipo)"
   ]
  },
  {
   "cell_type": "code",
   "execution_count": 19,
   "metadata": {},
   "outputs": [
    {
     "data": {
      "text/plain": [
       "{'resultados': {'ELECTORES_HABIL': 221946,\n",
       "  'TOT_CIUDADANOS_VOTARON': 30413,\n",
       "  'POR_PROCESAR': 0},\n",
       " 'tipo': 'presidenciales'}"
      ]
     },
     "execution_count": 19,
     "metadata": {},
     "output_type": "execute_result"
    }
   ],
   "source": [
    "await process_eleccion_por_elector(org_detalles_basicos[0], '10')"
   ]
  },
  {
   "cell_type": "markdown",
   "metadata": {},
   "source": [
    "#### Resultados agregados según el tipo de elección"
   ]
  },
  {
   "cell_type": "code",
   "execution_count": 20,
   "metadata": {},
   "outputs": [],
   "source": [
    "async def process_org_politica_results(org):\n",
    "    resultados_por_tipo = []\n",
    "    for tipo_eleccion in org['tipo_elecciones']:\n",
    "        elecciones_delegados = ['01', '03', '04']\n",
    "        process_type = None\n",
    "        if tipo_eleccion in elecciones_delegados:\n",
    "            process_type = process_eleccion_delegados\n",
    "        else:\n",
    "            process_type = process_eleccion_por_elector\n",
    "        resultados_por_tipo.append(process_type(org, tipo_eleccion))\n",
    "\n",
    "    resultados = await asyncio.gather(*resultados_por_tipo)\n",
    "    org['resultados_tipo_elecciones'] = resultados\n",
    "    return org"
   ]
  },
  {
   "cell_type": "code",
   "execution_count": 21,
   "metadata": {},
   "outputs": [
    {
     "data": {
      "text/plain": [
       "{'organizacion': 'AVANZA PAIS - PARTIDO DE INTEGRACION SOCIAL',\n",
       " 'codigo': '00000016',\n",
       " 'codigo_corto': '16',\n",
       " 'tipo_elecciones': ['01', '12', '11', '10'],\n",
       " 'resumen_general': {'electores_habiles': 7881,\n",
       "  'cantidad_mesas': 31,\n",
       "  'cantidad_locales': 29},\n",
       " 'resultados_tipo_elecciones': [{'resultados': {'ELECTORES_HABIL': 7881,\n",
       "    'TOT_CIUDADANOS_VOTARON': 362,\n",
       "    'POR_PROCESAR': 0},\n",
       "   'tipo': 'delegados_regional',\n",
       "   'region_level': 'departments'},\n",
       "  {'resultados': {'ELECTORES_HABIL': 50,\n",
       "    'TOT_CIUDADANOS_VOTARON': 39,\n",
       "    'POR_PROCESAR': 0},\n",
       "   'tipo': 'parlamento_andino'},\n",
       "  {'resultados': {}, 'tipo': 'congresales'},\n",
       "  {'resultados': {'ELECTORES_HABIL': 50,\n",
       "    'TOT_CIUDADANOS_VOTARON': 39,\n",
       "    'POR_PROCESAR': 0},\n",
       "   'tipo': 'presidenciales'}]}"
      ]
     },
     "execution_count": 21,
     "metadata": {},
     "output_type": "execute_result"
    }
   ],
   "source": [
    "await process_org_politica_results(org_detalles_basicos[2])"
   ]
  },
  {
   "cell_type": "markdown",
   "metadata": {},
   "source": [
    "### Resultados Generales"
   ]
  },
  {
   "cell_type": "code",
   "execution_count": 22,
   "metadata": {},
   "outputs": [],
   "source": [
    "async def fetch_all_results():\n",
    "    return await asyncio.gather(\n",
    "        *[process_org_politica_results(org) for org in org_detalles_basicos]\n",
    "    )"
   ]
  },
  {
   "cell_type": "code",
   "execution_count": null,
   "metadata": {},
   "outputs": [],
   "source": [
    "resultados_generales = await fetch_all_results()"
   ]
  },
  {
   "cell_type": "markdown",
   "metadata": {},
   "source": [
    "---"
   ]
  },
  {
   "cell_type": "markdown",
   "metadata": {},
   "source": [
    "## Parseo y guardado"
   ]
  },
  {
   "cell_type": "markdown",
   "metadata": {},
   "source": [
    "### Tipo de elecciones por organización política"
   ]
  },
  {
   "cell_type": "code",
   "execution_count": 106,
   "metadata": {},
   "outputs": [],
   "source": [
    "voto_delegados = [\n",
    "    'ALIANZA PARA EL PROGRESO',\n",
    "    'AVANZA PAIS - PARTIDO DE INTEGRACION SOCIAL',\n",
    "    'FRENTE POPULAR AGRICOLA FIA DEL PERU - FREPAP', 'FUERZA POPULAR',\n",
    "    'PARTIDO FRENTE DE LA ESPERANZA 2021', 'PARTIDO POLITICO CONTIGO',\n",
    "    'PARTIDO POLITICO NACIONAL PERU LIBRE',\n",
    "    'PERU NACION', 'PERU PATRIA SEGURA', 'PODEMOS PERU',\n",
    "    'RENACIMIENTO UNIDO NACIONAL', 'RESTAURACION NACIONAL',\n",
    "    'SOLIDARIDAD NACIONAL', 'TODOS POR EL PERU', 'UNION POR EL PERU'\n",
    "]\n",
    "\n",
    "voto_universal = [\n",
    "    'ACCION POPULAR',\n",
    "    'EL FRENTE AMPLIO POR JUSTICIA, VIDA Y LIBERTAD',\n",
    "    'JUNTOS POR EL PERU', 'PARTIDO APRISTA PERUANO',\n",
    "    'PARTIDO DEMOCRATICO SOMOS PERU', 'PARTIDO MORADO',\n",
    "    'PARTIDO NACIONALISTA PERUANO',\n",
    "]\n",
    "\n",
    "voto_mixto = ['PARTIDO POPULAR CRISTIANO - PPC', 'DEMOCRACIA DIRECTA']"
   ]
  },
  {
   "cell_type": "code",
   "execution_count": 107,
   "metadata": {},
   "outputs": [],
   "source": [
    "def get_modalidad_y_listas(org, tipo_eleccion):\n",
    "\n",
    "    modalidad = '-'\n",
    "    listas = '-'\n",
    "\n",
    "    # Modalidad\n",
    "    if org in voto_mixto:\n",
    "        if org == 'PARTIDO POPULAR CRISTIANO - PPC':\n",
    "            if tipo_eleccion == 'presidenciales':\n",
    "                modalidad = 'universal'\n",
    "            else:\n",
    "                modalidad = 'delegados'\n",
    "        elif org == 'DEMOCRACIA DIRECTA':\n",
    "            if tipo_eleccion == 'congresales':\n",
    "                modalidad = 'universal'\n",
    "            else:\n",
    "                modalidad = 'delegados'\n",
    "    elif org in voto_universal:\n",
    "            modalidad = 'universal'\n",
    "    else:\n",
    "        modalidad = 'delegados'\n",
    "\n",
    "    # Numero de listas\n",
    "    if tipo_eleccion == 'presidenciales':\n",
    "        if org in ['PARTIDO MORADO', 'PARTIDO APRISTA PERUANO']:\n",
    "            listas = 3\n",
    "        elif org == 'ACCION POPULAR':\n",
    "            listas = 4\n",
    "        else:\n",
    "            listas = 1\n",
    "    else:\n",
    "        listas = '-'\n",
    "        \n",
    "    return (modalidad, listas)"
   ]
  },
  {
   "cell_type": "markdown",
   "metadata": {},
   "source": [
    "### Data agregada"
   ]
  },
  {
   "cell_type": "code",
   "execution_count": 111,
   "metadata": {},
   "outputs": [],
   "source": [
    "def resultados_por_organizacion(org):\n",
    "    resultados = []\n",
    "    for result in org['resultados_tipo_elecciones']:\n",
    "        (modalidad, listas) = get_modalidad_y_listas(org['organizacion'], result['tipo'])\n",
    "        result_clean = dict(\n",
    "            # detalles generales\n",
    "            organizacion = org['organizacion'],\n",
    "            codigo = org['codigo'],\n",
    "            codigo_corto = org['codigo_corto'],\n",
    "            total_electores_habiles = org['resumen_general']['electores_habiles'],\n",
    "            # detalles por tipo de eleccion\n",
    "            TIPO_ELECCION = result['tipo'],\n",
    "            ELECTORES_HABILES = result['resultados'].get('ELECTORES_HABIL', None),\n",
    "            ELECTORES_VOTARON = result['resultados'].get('TOT_CIUDADANOS_VOTARON', None),\n",
    "            VOTOS_POR_PROCESAR = result['resultados'].get('POR_PROCESAR', None),\n",
    "            MODALIDAD = modalidad,\n",
    "            LISTAS = listas,\n",
    "        )\n",
    "        resultados.append(result_clean)\n",
    "    return resultados"
   ]
  },
  {
   "cell_type": "code",
   "execution_count": 115,
   "metadata": {},
   "outputs": [],
   "source": [
    "def clean_resultados(resultados):\n",
    "    total_resultados = []\n",
    "    for org in resultados:\n",
    "        resultados_org = resultados_por_organizacion(org)\n",
    "        total_resultados.extend(resultados_org)\n",
    "    return total_resultados"
   ]
  },
  {
   "cell_type": "code",
   "execution_count": 116,
   "metadata": {},
   "outputs": [],
   "source": [
    "resultados_clean = clean_resultados(resultados_generales)"
   ]
  },
  {
   "cell_type": "code",
   "execution_count": 117,
   "metadata": {},
   "outputs": [],
   "source": [
    "df = pd.DataFrame(resultados_clean)"
   ]
  },
  {
   "cell_type": "code",
   "execution_count": 133,
   "metadata": {},
   "outputs": [
    {
     "data": {
      "text/html": [
       "<div>\n",
       "<style scoped>\n",
       "    .dataframe tbody tr th:only-of-type {\n",
       "        vertical-align: middle;\n",
       "    }\n",
       "\n",
       "    .dataframe tbody tr th {\n",
       "        vertical-align: top;\n",
       "    }\n",
       "\n",
       "    .dataframe thead th {\n",
       "        text-align: right;\n",
       "    }\n",
       "</style>\n",
       "<table border=\"1\" class=\"dataframe\">\n",
       "  <thead>\n",
       "    <tr style=\"text-align: right;\">\n",
       "      <th></th>\n",
       "      <th>organizacion</th>\n",
       "      <th>codigo</th>\n",
       "      <th>codigo_corto</th>\n",
       "      <th>total_electores_habiles</th>\n",
       "      <th>TIPO_ELECCION</th>\n",
       "      <th>ELECTORES_HABIL</th>\n",
       "      <th>TOT_CIUDADANOS_VOTARON</th>\n",
       "      <th>POR_PROCESAR</th>\n",
       "      <th>MODALIDAD</th>\n",
       "      <th>LISTAS</th>\n",
       "    </tr>\n",
       "  </thead>\n",
       "  <tbody>\n",
       "    <tr>\n",
       "      <th>0</th>\n",
       "      <td>ACCION POPULAR</td>\n",
       "      <td>00000002</td>\n",
       "      <td>02</td>\n",
       "      <td>221946</td>\n",
       "      <td>presidenciales</td>\n",
       "      <td>221946.0</td>\n",
       "      <td>30413.0</td>\n",
       "      <td>0.0</td>\n",
       "      <td>universal</td>\n",
       "      <td>4</td>\n",
       "    </tr>\n",
       "    <tr>\n",
       "      <th>1</th>\n",
       "      <td>ACCION POPULAR</td>\n",
       "      <td>00000002</td>\n",
       "      <td>02</td>\n",
       "      <td>221946</td>\n",
       "      <td>parlamento_andino</td>\n",
       "      <td>221946.0</td>\n",
       "      <td>30814.0</td>\n",
       "      <td>0.0</td>\n",
       "      <td>universal</td>\n",
       "      <td>-</td>\n",
       "    </tr>\n",
       "    <tr>\n",
       "      <th>2</th>\n",
       "      <td>ACCION POPULAR</td>\n",
       "      <td>00000002</td>\n",
       "      <td>02</td>\n",
       "      <td>221946</td>\n",
       "      <td>congresales</td>\n",
       "      <td>62884.0</td>\n",
       "      <td>9996.0</td>\n",
       "      <td>0.0</td>\n",
       "      <td>universal</td>\n",
       "      <td>-</td>\n",
       "    </tr>\n",
       "    <tr>\n",
       "      <th>3</th>\n",
       "      <td>ALIANZA PARA EL PROGRESO</td>\n",
       "      <td>00000012</td>\n",
       "      <td>12</td>\n",
       "      <td>224604</td>\n",
       "      <td>delegados_regional</td>\n",
       "      <td>224604.0</td>\n",
       "      <td>4807.0</td>\n",
       "      <td>0.0</td>\n",
       "      <td>delegados</td>\n",
       "      <td>-</td>\n",
       "    </tr>\n",
       "    <tr>\n",
       "      <th>4</th>\n",
       "      <td>ALIANZA PARA EL PROGRESO</td>\n",
       "      <td>00000012</td>\n",
       "      <td>12</td>\n",
       "      <td>224604</td>\n",
       "      <td>parlamento_andino</td>\n",
       "      <td>26.0</td>\n",
       "      <td>26.0</td>\n",
       "      <td>0.0</td>\n",
       "      <td>delegados</td>\n",
       "      <td>-</td>\n",
       "    </tr>\n",
       "  </tbody>\n",
       "</table>\n",
       "</div>"
      ],
      "text/plain": [
       "               organizacion    codigo codigo_corto  total_electores_habiles  \\\n",
       "0            ACCION POPULAR  00000002           02                   221946   \n",
       "1            ACCION POPULAR  00000002           02                   221946   \n",
       "2            ACCION POPULAR  00000002           02                   221946   \n",
       "3  ALIANZA PARA EL PROGRESO  00000012           12                   224604   \n",
       "4  ALIANZA PARA EL PROGRESO  00000012           12                   224604   \n",
       "\n",
       "        TIPO_ELECCION  ELECTORES_HABIL  TOT_CIUDADANOS_VOTARON  POR_PROCESAR  \\\n",
       "0      presidenciales         221946.0                 30413.0           0.0   \n",
       "1   parlamento_andino         221946.0                 30814.0           0.0   \n",
       "2         congresales          62884.0                  9996.0           0.0   \n",
       "3  delegados_regional         224604.0                  4807.0           0.0   \n",
       "4   parlamento_andino             26.0                    26.0           0.0   \n",
       "\n",
       "   MODALIDAD LISTAS  \n",
       "0  universal      4  \n",
       "1  universal      -  \n",
       "2  universal      -  \n",
       "3  delegados      -  \n",
       "4  delegados      -  "
      ]
     },
     "execution_count": 133,
     "metadata": {},
     "output_type": "execute_result"
    }
   ],
   "source": [
    "df.head()"
   ]
  },
  {
   "cell_type": "markdown",
   "metadata": {},
   "source": [
    "### Guardado csv"
   ]
  },
  {
   "cell_type": "code",
   "execution_count": null,
   "metadata": {},
   "outputs": [],
   "source": [
    "df.to_csv('elecciones_internas_org_politicas_peru_2020.csv', index=False)"
   ]
  },
  {
   "cell_type": "markdown",
   "metadata": {},
   "source": [
    "### Fuentes\n",
    "- [ONPE - Elecciones Internas 2020](https://resultados.onpe.gob.pe/IN2020/Home)"
   ]
  }
 ],
 "metadata": {
  "kernelspec": {
   "display_name": "Python 3",
   "language": "python",
   "name": "python3"
  },
  "language_info": {
   "codemirror_mode": {
    "name": "ipython",
    "version": 3
   },
   "file_extension": ".py",
   "mimetype": "text/x-python",
   "name": "python",
   "nbconvert_exporter": "python",
   "pygments_lexer": "ipython3",
   "version": "3.8.5"
  }
 },
 "nbformat": 4,
 "nbformat_minor": 4
}
