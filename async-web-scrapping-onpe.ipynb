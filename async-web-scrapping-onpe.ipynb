{
 "cells": [
  {
   "cell_type": "code",
   "execution_count": 1,
   "metadata": {},
   "outputs": [],
   "source": [
    "import requests\n",
    "import aiohttp\n",
    "import asyncio\n",
    "import json\n",
    "import os\n",
    "from aiohttp import ClientSession"
   ]
  },
  {
   "cell_type": "markdown",
   "metadata": {},
   "source": [
    "### Helpers"
   ]
  },
  {
   "cell_type": "code",
   "execution_count": 2,
   "metadata": {},
   "outputs": [],
   "source": [
    "# Dont do this, create a new session per context instead\n",
    "# aioSession = ClientSession()"
   ]
  },
  {
   "cell_type": "code",
   "execution_count": 3,
   "metadata": {},
   "outputs": [],
   "source": [
    "# https://stackoverflow.com/questions/48840378/python-attempt-to-decode-json-with-unexpected-mimetype\n",
    "async def fetch(url, session, method='GET'):\n",
    "    try:\n",
    "        response = await session.request(method=method, url=url)\n",
    "        response.raise_for_status()\n",
    "        return await response.json(content_type=None)\n",
    "    except Exception as err:\n",
    "        print(f\"An error ocurred: {err}\")"
   ]
  },
  {
   "cell_type": "markdown",
   "metadata": {},
   "source": [
    "### URLs"
   ]
  },
  {
   "cell_type": "code",
   "execution_count": 4,
   "metadata": {},
   "outputs": [],
   "source": [
    "base_url = 'https://resultados.onpe.gob.pe/v1'\n",
    "\n",
    "organizaciones_politicas_url = f'{base_url}/IN2020/agpcand/D40015'\n",
    "tipo_elecciones_partido_url = f'{base_url}/IN2020/elecciones'\n",
    "\n",
    "resumen_partido_url = f'{base_url}/IN2020/summary/actas'\n",
    "\n",
    "resultados_elecciones_presidencialtes_url = f'{base_url}/IN2020/results/10/800000'\n",
    "resultados_elecciones_congresales_url = f'{base_url}/IN2020/results/11/D43015'\n",
    "resultados_elecciones_parlamento_andino_url = f'{base_url}/IN2020/results/12/800000'\n",
    "\n",
    "ubigeos_regionales_por_partido_url = f'{base_url}/DE2020/ubigeos/01'\n",
    "ubigeos_provinciales_por_partido_url = f'{base_url}/DE2020/ubigeos/03'\n",
    "ubigeos_distritales_por_partido_url = f'{base_url}/DE2020/ubigeos/04'\n",
    "resultados_elecciones_delegados_regional_url = f'{base_url}/DE2020/results/01'\n",
    "resultados_elecciones_delegados_provincial_url = f'{base_url}/DE2020/results/03'\n",
    "resultados_elecciones_delegados_distritales_url = f'{base_url}/DE2020/results/04'\n",
    "\n",
    "iconos_organizaciones_url = 'https://resultados.onpe.gob.pe/IN2020/assets/iconos/iconos_reales'"
   ]
  },
  {
   "cell_type": "markdown",
   "metadata": {},
   "source": [
    "### Lista de organizaciones políticas"
   ]
  },
  {
   "cell_type": "code",
   "execution_count": 5,
   "metadata": {},
   "outputs": [],
   "source": [
    "def parse_org_politicas(org):\n",
    "    org_parsed = dict(\n",
    "        organizacion=org['C_DESC_AGRUPOL'], \n",
    "        codigo=org['C_CODI_AGRUPOL'],\n",
    "        codigo_corto=org['C_CODI_AGRUPOL'][-2:]\n",
    "    )\n",
    "    return org_parsed\n",
    "\n",
    "def fetch_org_politicas():\n",
    "    organizaciones = requests.get(organizaciones_politicas_url).json()['organizaciones']\n",
    "    organizaciones_parsed = []\n",
    "    for org in organizaciones:\n",
    "        organizaciones_parsed.append(parse_org_politicas(org))\n",
    "    return organizaciones_parsed"
   ]
  },
  {
   "cell_type": "code",
   "execution_count": 6,
   "metadata": {},
   "outputs": [],
   "source": [
    "organizaciones_politicas = fetch_org_politicas()"
   ]
  },
  {
   "cell_type": "code",
   "execution_count": 7,
   "metadata": {},
   "outputs": [
    {
     "data": {
      "text/plain": [
       "{'organizacion': 'ACCION POPULAR', 'codigo': '00000002', 'codigo_corto': '02'}"
      ]
     },
     "execution_count": 7,
     "metadata": {},
     "output_type": "execute_result"
    }
   ],
   "source": [
    "organizaciones_politicas[0]"
   ]
  },
  {
   "cell_type": "markdown",
   "metadata": {},
   "source": [
    "### Detalles básicos"
   ]
  },
  {
   "cell_type": "code",
   "execution_count": 8,
   "metadata": {},
   "outputs": [],
   "source": [
    "def clean_resumen_general(resumen):\n",
    "    resumen_parsed = dict(\n",
    "        electores_habiles=int(resumen['n_elec_habil'].replace(',', '')),\n",
    "        cantidad_mesas=int(resumen['n_num_mesas']),\n",
    "        cantidad_locales=int(resumen['locales']),\n",
    "    )\n",
    "    return resumen_parsed\n",
    "\n",
    "async def fetch_org_base_detail(org):\n",
    "    async with ClientSession() as session:\n",
    "        tipo_elecciones_url = f'{tipo_elecciones_partido_url}/{org[\"codigo\"]}'\n",
    "        resumen_general_url = f'{resumen_partido_url}/{org[\"codigo_corto\"]}'\n",
    "        urls = [tipo_elecciones_url, resumen_general_url]\n",
    "        tipo_elecciones, resumen_general = await asyncio.gather(*[fetch(url, session) for url in urls])\n",
    "\n",
    "        org['tipo_elecciones'] = tipo_elecciones['elecciones']\n",
    "        org['resumen_general'] = clean_resumen_general(resumen_general)\n",
    "\n",
    "        return org\n",
    "    \n",
    "async def fetch_all_base_details():\n",
    "    return await asyncio.gather(\n",
    "        *[fetch_org_base_detail(org) for org in organizaciones_politicas]\n",
    "    )"
   ]
  },
  {
   "cell_type": "code",
   "execution_count": 9,
   "metadata": {},
   "outputs": [],
   "source": [
    "org_detalles_basicos = await fetch_all_base_details()"
   ]
  },
  {
   "cell_type": "code",
   "execution_count": 10,
   "metadata": {},
   "outputs": [
    {
     "data": {
      "text/plain": [
       "{'organizacion': 'ACCION POPULAR',\n",
       " 'codigo': '00000002',\n",
       " 'codigo_corto': '02',\n",
       " 'tipo_elecciones': ['10', '12', '11'],\n",
       " 'resumen_general': {'electores_habiles': 221946,\n",
       "  'cantidad_mesas': 326,\n",
       "  'cantidad_locales': 127}}"
      ]
     },
     "execution_count": 10,
     "metadata": {},
     "output_type": "execute_result"
    }
   ],
   "source": [
    "org_detalles_basicos[0]"
   ]
  },
  {
   "cell_type": "markdown",
   "metadata": {},
   "source": [
    "### Resultados elecciones por organización política"
   ]
  },
  {
   "cell_type": "code",
   "execution_count": 11,
   "metadata": {},
   "outputs": [],
   "source": [
    "def get_general_data_results(resultados):\n",
    "    general_data = resultados['generals']['generalData']\n",
    "    relevant_data = {}\n",
    "    if general_data:\n",
    "        relevant_data['ELECTORES_HABIL'] = int(general_data['ELECTORES_HABIL'].replace(',', ''))\n",
    "        relevant_data['TOT_CIUDADANOS_VOTARON'] = int(general_data['TOT_CIUDADANOS_VOTARON'].replace(',', ''))\n",
    "        relevant_data['POR_PROCESAR'] = int(general_data['POR_PROCESAR'].replace(',', ''))\n",
    "    return relevant_data"
   ]
  },
  {
   "cell_type": "markdown",
   "metadata": {},
   "source": [
    "#### Elecciones por Delegados - Handler"
   ]
  },
  {
   "cell_type": "code",
   "execution_count": 12,
   "metadata": {},
   "outputs": [],
   "source": [
    "def get_eleccion_delegados_params(tipo_eleccion):\n",
    "    tipo = ''\n",
    "    resultados_url = ''\n",
    "    ubigeos_url = ''\n",
    "\n",
    "    region_level = ''\n",
    "    region_level_code = ''\n",
    "    region_level_descripcion = ''\n",
    "\n",
    "    if tipo_eleccion == '01':\n",
    "        tipo = 'delegados_regional'\n",
    "        resultados_url = resultados_elecciones_delegados_regional_url\n",
    "        ubigeos_url = ubigeos_regionales_por_partido_url\n",
    "        region_level = 'departments'\n",
    "        region_level_code = 'CDGO_DEP'\n",
    "        region_level_descripcion = 'DESC_DEP'\n",
    "    elif tipo_eleccion == '03':\n",
    "        tipo = 'delegados_provincial'\n",
    "        resultados_url = resultados_elecciones_delegados_provincial_url\n",
    "        ubigeos_url = ubigeos_provinciales_por_partido_url\n",
    "        region_level = 'provinces'\n",
    "        region_level_code = 'CDGO_PROV'\n",
    "        region_level_descripcion = 'DESC_PROV'\n",
    "    elif tipo_eleccion == '04':\n",
    "        tipo = 'delegados_distritales'\n",
    "        resultados_url = resultados_elecciones_delegados_distritales_url\n",
    "        ubigeos_url = ubigeos_distritales_por_partido_url\n",
    "        region_level = 'districts'\n",
    "        region_level_code = 'CDGO_DIST'\n",
    "        region_level_descripcion = 'DESC_DIST'\n",
    "    else:\n",
    "        print('error al consultar tipo de eleccion no hay data')\n",
    "\n",
    "    return (\n",
    "        tipo,\n",
    "        resultados_url,\n",
    "        ubigeos_url,\n",
    "        region_level,\n",
    "        region_level_code,\n",
    "        region_level_descripcion\n",
    "    )"
   ]
  },
  {
   "cell_type": "code",
   "execution_count": 13,
   "metadata": {},
   "outputs": [],
   "source": [
    "def get_eleccion_delegados_resultados_rollup(resultados):\n",
    "    electores_habiles = 0\n",
    "    electores_participaron = 0\n",
    "    por_procesar = 0\n",
    "    for resultado in resultados:\n",
    "        electores_habiles += resultado['resultados']['ELECTORES_HABIL']\n",
    "        electores_participaron += resultado['resultados']['TOT_CIUDADANOS_VOTARON']\n",
    "        por_procesar += resultado['resultados']['POR_PROCESAR']\n",
    "\n",
    "    resultados_rollup = dict(\n",
    "        ELECTORES_HABIL=electores_habiles,\n",
    "        TOT_CIUDADANOS_VOTARON=electores_participaron,\n",
    "        POR_PROCESAR=por_procesar\n",
    "    )\n",
    "    \n",
    "    return resultados_rollup"
   ]
  },
  {
   "cell_type": "code",
   "execution_count": 14,
   "metadata": {},
   "outputs": [],
   "source": [
    "async def eleccion_delegados_results_by_ubigeo(\n",
    "    org, level_ubigeo, resultados_url, region_level_code, region_level_descripcion\n",
    "):\n",
    "    async with ClientSession() as session:\n",
    "        ubigeo_results_url = f'{resultados_url}/{level_ubigeo[region_level_code]}/{org[\"codigo\"]}'\n",
    "        resultados_por_nivel_region = await fetch(ubigeo_results_url, session)\n",
    "\n",
    "        general_data = get_general_data_results(resultados_por_nivel_region)\n",
    "\n",
    "        nivel_region_detalle = dict(\n",
    "            nombre=level_ubigeo[region_level_descripcion],\n",
    "            codigo=level_ubigeo[region_level_code],\n",
    "            codigo_padre=level_ubigeo['CDGO_PADRE'],\n",
    "            resultados=general_data\n",
    "        )\n",
    "\n",
    "        return nivel_region_detalle"
   ]
  },
  {
   "cell_type": "code",
   "execution_count": 15,
   "metadata": {},
   "outputs": [],
   "source": [
    "async def process_eleccion_delegados(org, tipo_eleccion):\n",
    "    (tipo,\n",
    "    resultados_url,\n",
    "    ubigeos_url,\n",
    "    region_level,\n",
    "    region_level_code,\n",
    "    region_level_descripcion) = get_eleccion_delegados_params(tipo_eleccion)\n",
    "\n",
    "    # fetch ubigeos\n",
    "    ubigeos_list_url = f'{ubigeos_url}/{org[\"codigo\"]}'\n",
    "    async with ClientSession() as session:\n",
    "        ubigeos = await fetch(ubigeos_list_url, session)\n",
    "\n",
    "    # fetch results by ubigeo\n",
    "    results_by_ubigeo = []\n",
    "    for level_ubigeo in ubigeos[region_level]:\n",
    "        ubigeo_result = eleccion_delegados_results_by_ubigeo(\n",
    "            org, level_ubigeo, resultados_url, region_level_code, region_level_descripcion\n",
    "        )\n",
    "        results_by_ubigeo.append(ubigeo_result)\n",
    "    resultados = await asyncio.gather(*results_by_ubigeo)\n",
    "    \n",
    "    resultados_rollup = get_eleccion_delegados_resultados_rollup(resultados)\n",
    "\n",
    "    return dict(\n",
    "        resultados=resultados_rollup, \n",
    "#         resultados_rollup=resultados_rollup, \n",
    "        tipo=tipo, region_level=region_level\n",
    "    )"
   ]
  },
  {
   "cell_type": "code",
   "execution_count": 16,
   "metadata": {},
   "outputs": [
    {
     "data": {
      "text/plain": [
       "{'resultados': {'ELECTORES_HABIL': 224604,\n",
       "  'TOT_CIUDADANOS_VOTARON': 4807,\n",
       "  'POR_PROCESAR': 0},\n",
       " 'tipo': 'delegados_regional',\n",
       " 'region_level': 'departments'}"
      ]
     },
     "execution_count": 16,
     "metadata": {},
     "output_type": "execute_result"
    }
   ],
   "source": [
    "await process_eleccion_delegados(org_detalles_basicos[1], '01')"
   ]
  },
  {
   "cell_type": "markdown",
   "metadata": {},
   "source": [
    "#### Elecciones por elector habil - Handler"
   ]
  },
  {
   "cell_type": "code",
   "execution_count": 17,
   "metadata": {},
   "outputs": [],
   "source": [
    "def get_eleccion_por_elector_params(tipo_eleccion):\n",
    "    tipo = ''\n",
    "    url = ''\n",
    "    if tipo_eleccion == '10':\n",
    "        tipo = 'presidenciales'\n",
    "        url = resultados_elecciones_presidencialtes_url\n",
    "    elif tipo_eleccion == '11':\n",
    "        tipo = 'congresales'\n",
    "        url = resultados_elecciones_congresales_url\n",
    "    elif tipo_eleccion == '12':\n",
    "        tipo = 'parlamento_andino'\n",
    "        url = resultados_elecciones_parlamento_andino_url\n",
    "        \n",
    "    return (tipo, url)"
   ]
  },
  {
   "cell_type": "code",
   "execution_count": 18,
   "metadata": {},
   "outputs": [],
   "source": [
    "async def process_eleccion_por_elector(org, tipo_eleccion):\n",
    "    (tipo, url) = get_eleccion_por_elector_params(tipo_eleccion)\n",
    "    \n",
    "    async with ClientSession() as session:\n",
    "        results_url = f'{url}/{org[\"codigo\"]}'\n",
    "        resultados = await fetch(results_url, session)\n",
    "\n",
    "        general_data = get_general_data_results(resultados)\n",
    "        \n",
    "        return dict(resultados=general_data, tipo=tipo)"
   ]
  },
  {
   "cell_type": "code",
   "execution_count": 19,
   "metadata": {},
   "outputs": [
    {
     "data": {
      "text/plain": [
       "{'resultados': {'ELECTORES_HABIL': 221946,\n",
       "  'TOT_CIUDADANOS_VOTARON': 30413,\n",
       "  'POR_PROCESAR': 0},\n",
       " 'tipo': 'presidenciales'}"
      ]
     },
     "execution_count": 19,
     "metadata": {},
     "output_type": "execute_result"
    }
   ],
   "source": [
    "await process_eleccion_por_elector(org_detalles_basicos[0], '10')"
   ]
  },
  {
   "cell_type": "markdown",
   "metadata": {},
   "source": [
    "#### Resultados por organizacion politica"
   ]
  },
  {
   "cell_type": "code",
   "execution_count": 20,
   "metadata": {},
   "outputs": [],
   "source": [
    "async def process_org_politica_results(org):\n",
    "    resultados_por_tipo = []\n",
    "    for tipo_eleccion in org['tipo_elecciones']:\n",
    "        elecciones_delegados = ['01', '03', '04']\n",
    "        process_type = None\n",
    "        if tipo_eleccion in elecciones_delegados:\n",
    "            process_type = process_eleccion_delegados\n",
    "        else:\n",
    "            process_type = process_eleccion_por_elector\n",
    "\n",
    "        resultados_por_tipo.append(process_type(org, tipo_eleccion))\n",
    "\n",
    "    resultados = await asyncio.gather(*resultados_por_tipo)\n",
    "    org['resultados_tipo_elecciones'] = resultados\n",
    "    return org"
   ]
  },
  {
   "cell_type": "code",
   "execution_count": 21,
   "metadata": {},
   "outputs": [
    {
     "data": {
      "text/plain": [
       "{'organizacion': 'AVANZA PAIS - PARTIDO DE INTEGRACION SOCIAL',\n",
       " 'codigo': '00000016',\n",
       " 'codigo_corto': '16',\n",
       " 'tipo_elecciones': ['01', '12', '11', '10'],\n",
       " 'resumen_general': {'electores_habiles': 7881,\n",
       "  'cantidad_mesas': 31,\n",
       "  'cantidad_locales': 29},\n",
       " 'resultados_tipo_elecciones': [{'resultados': {'ELECTORES_HABIL': 7881,\n",
       "    'TOT_CIUDADANOS_VOTARON': 362,\n",
       "    'POR_PROCESAR': 0},\n",
       "   'tipo': 'delegados_regional',\n",
       "   'region_level': 'departments'},\n",
       "  {'resultados': {'ELECTORES_HABIL': 50,\n",
       "    'TOT_CIUDADANOS_VOTARON': 39,\n",
       "    'POR_PROCESAR': 0},\n",
       "   'tipo': 'parlamento_andino'},\n",
       "  {'resultados': {}, 'tipo': 'congresales'},\n",
       "  {'resultados': {'ELECTORES_HABIL': 50,\n",
       "    'TOT_CIUDADANOS_VOTARON': 39,\n",
       "    'POR_PROCESAR': 0},\n",
       "   'tipo': 'presidenciales'}]}"
      ]
     },
     "execution_count": 21,
     "metadata": {},
     "output_type": "execute_result"
    }
   ],
   "source": [
    "await process_org_politica_results(org_detalles_basicos[2])"
   ]
  },
  {
   "cell_type": "markdown",
   "metadata": {},
   "source": [
    "### Resultados Generales"
   ]
  },
  {
   "cell_type": "code",
   "execution_count": 22,
   "metadata": {},
   "outputs": [],
   "source": [
    "async def fetch_all_results():\n",
    "    return await asyncio.gather(\n",
    "        *[process_org_politica_results(org) for org in org_detalles_basicos]\n",
    "    )"
   ]
  },
  {
   "cell_type": "code",
   "execution_count": 23,
   "metadata": {},
   "outputs": [],
   "source": [
    "results = await fetch_all_results()"
   ]
  },
  {
   "cell_type": "code",
   "execution_count": null,
   "metadata": {},
   "outputs": [],
   "source": []
  }
 ],
 "metadata": {
  "kernelspec": {
   "display_name": "Python 3",
   "language": "python",
   "name": "python3"
  },
  "language_info": {
   "codemirror_mode": {
    "name": "ipython",
    "version": 3
   },
   "file_extension": ".py",
   "mimetype": "text/x-python",
   "name": "python",
   "nbconvert_exporter": "python",
   "pygments_lexer": "ipython3",
   "version": "3.8.5"
  }
 },
 "nbformat": 4,
 "nbformat_minor": 4
}
