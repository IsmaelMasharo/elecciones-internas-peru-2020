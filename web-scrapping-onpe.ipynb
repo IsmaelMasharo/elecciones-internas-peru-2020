{
 "cells": [
  {
   "cell_type": "code",
   "execution_count": 1,
   "metadata": {},
   "outputs": [],
   "source": [
    "import requests\n",
    "import pandas as pd"
   ]
  },
  {
   "cell_type": "markdown",
   "metadata": {},
   "source": [
    "### Lista de urls"
   ]
  },
  {
   "cell_type": "code",
   "execution_count": 2,
   "metadata": {},
   "outputs": [],
   "source": [
    "base_url = 'https://resultados.onpe.gob.pe/v1'\n",
    "\n",
    "organizaciones_politicas_url = f'{base_url}/IN2020/agpcand/D40015'\n",
    "tipo_elecciones_partido_url = f'{base_url}/IN2020/elecciones'\n",
    "\n",
    "resumen_partido_url = f'{base_url}/IN2020/summary/actas'\n",
    "\n",
    "resultados_elecciones_presidencialtes_url = f'{base_url}/IN2020/results/10/800000'\n",
    "resultados_elecciones_congresales_url = f'{base_url}/IN2020/results/11/D43015'\n",
    "resultados_elecciones_parlamento_andino_url = f'{base_url}/IN2020/results/12/800000'\n",
    "\n",
    "ubigeos_regionales_por_partido_url = f'{base_url}/DE2020/ubigeos/01'\n",
    "ubigeos_provinciales_por_partido_url = f'{base_url}/DE2020/ubigeos/03'\n",
    "ubigeos_distritales_por_partido_url = f'{base_url}/DE2020/ubigeos/04'\n",
    "resultados_elecciones_delegados_regional_url = f'{base_url}/DE2020/results/01'\n",
    "resultados_elecciones_delegados_provincial_url = f'{base_url}/DE2020/results/03'\n",
    "resultados_elecciones_delegados_distritales_url = f'{base_url}/DE2020/results/04'\n",
    "\n",
    "iconos_organizaciones_url = 'https://resultados.onpe.gob.pe/IN2020/assets/iconos/iconos_reales'"
   ]
  },
  {
   "cell_type": "markdown",
   "metadata": {},
   "source": [
    "### Organizaciones políticas - Detalles básicos"
   ]
  },
  {
   "cell_type": "code",
   "execution_count": 3,
   "metadata": {},
   "outputs": [],
   "source": [
    "organizaciones_politicas = requests.get(organizaciones_politicas_url).json()['organizaciones']"
   ]
  },
  {
   "cell_type": "code",
   "execution_count": 4,
   "metadata": {},
   "outputs": [],
   "source": [
    "organizaciones = []\n",
    "for org in organizaciones_politicas:\n",
    "\n",
    "    org_detalle = dict(\n",
    "        organizacion=org['C_DESC_AGRUPOL'], \n",
    "        codigo=org['C_CODI_AGRUPOL'],\n",
    "        codigo_corto=org['C_CODI_AGRUPOL'][-2:]\n",
    "    )\n",
    "    \n",
    "    tipo_elecciones = requests.get(f'{tipo_elecciones_partido_url}/{org_detalle[\"codigo\"]}').json()\n",
    "    resumen_general = requests.get(f'{resumen_partido_url}/{org_detalle[\"codigo_corto\"]}').json()\n",
    "    \n",
    "    org_detalle['tipo_elecciones'] = tipo_elecciones['elecciones']\n",
    "    org_detalle['resumen_general'] = resumen_general\n",
    "\n",
    "    organizaciones.append(org_detalle)"
   ]
  },
  {
   "cell_type": "code",
   "execution_count": 5,
   "metadata": {},
   "outputs": [
    {
     "data": {
      "text/plain": [
       "24"
      ]
     },
     "execution_count": 5,
     "metadata": {},
     "output_type": "execute_result"
    }
   ],
   "source": [
    "len(organizaciones)"
   ]
  },
  {
   "cell_type": "code",
   "execution_count": 6,
   "metadata": {},
   "outputs": [
    {
     "data": {
      "text/plain": [
       "{'organizacion': 'ACCION POPULAR',\n",
       " 'codigo': '00000002',\n",
       " 'codigo_corto': '02',\n",
       " 'tipo_elecciones': ['10', '12', '11'],\n",
       " 'resumen_general': {'c_codi_proceso': '02',\n",
       "  'descripcion': 'ACCION POPULAR',\n",
       "  'n_elec_habil': '221,946',\n",
       "  'n_num_mesas': '326',\n",
       "  'locales': '127',\n",
       "  'elecciones': [{'titulo': 'Afiliado Candidato',\n",
       "    'sub_titulo': 'Modalidad: Fórmula Presidencial',\n",
       "    'imagen': 'presidencial_ico'},\n",
       "   {'titulo': 'Afiliado Candidato',\n",
       "    'sub_titulo': 'Modalidad: Congreso de la República',\n",
       "    'imagen': 'congreso_ico'},\n",
       "   {'titulo': 'Afiliado Candidato',\n",
       "    'sub_titulo': 'Modalidad: Parlamento Andino',\n",
       "    'imagen': 'parlamento_ico'}]}}"
      ]
     },
     "execution_count": 6,
     "metadata": {},
     "output_type": "execute_result"
    }
   ],
   "source": [
    "organizaciones[0]"
   ]
  },
  {
   "cell_type": "markdown",
   "metadata": {},
   "source": [
    "### Resultados elecciones por organización política"
   ]
  },
  {
   "cell_type": "code",
   "execution_count": 7,
   "metadata": {},
   "outputs": [],
   "source": [
    "for org in organizaciones:\n",
    "    org['resultados_tipo_elecciones'] = []\n",
    "\n",
    "    for tipo_eleccion in org['tipo_elecciones']:\n",
    "        elecciones_delegados = ['01', '03', '04']\n",
    "\n",
    "        if tipo_eleccion in elecciones_delegados:\n",
    "            tipo = ''\n",
    "            resultados_url = ''\n",
    "            ubigeos_url = ''\n",
    "            \n",
    "            region_level = ''\n",
    "            region_level_code = ''\n",
    "            region_level_descripcion = ''\n",
    "            region_level_ubigeos = []\n",
    "            \n",
    "            if tipo_eleccion == '01':\n",
    "                tipo = 'delegados_regional'\n",
    "                resultados_url = resultados_elecciones_delegados_regional_url\n",
    "                ubigeos_url = ubigeos_regionales_por_partido_url\n",
    "                region_level = 'departments'\n",
    "                region_level_code = 'CDGO_DEP'\n",
    "                region_level_descripcion = 'DESC_DEP'\n",
    "            elif tipo_eleccion == '03':\n",
    "                tipo = 'delegados_provincial'\n",
    "                resultados_url = resultados_elecciones_delegados_provincial_url\n",
    "                ubigeos_url = ubigeos_provinciales_por_partido_url\n",
    "                region_level = 'provinces'\n",
    "                region_level_code = 'CDGO_PROV'\n",
    "                region_level_descripcion = 'DESC_PROV'\n",
    "            elif tipo_eleccion == '04':\n",
    "                tipo = 'delegados_distritales'\n",
    "                resultados_url = resultados_elecciones_delegados_distritales_url\n",
    "                ubigeos_url = ubigeos_distritales_por_partido_url\n",
    "                region_level = 'districts'\n",
    "                region_level_code = 'CDGO_DIST'\n",
    "                region_level_descripcion = 'DESC_DIST'\n",
    "            else:\n",
    "                print('error al consultar tipo de eleccion no hay data')\n",
    "                continue\n",
    "\n",
    "            ubigeos = requests.get(f'{ubigeos_url}/{org[\"codigo\"]}').json()\n",
    "            region_level_ubigeos = ubigeos[region_level]\n",
    "\n",
    "            resultados_detalle = dict(resultados=[], tipo=tipo, region_level=region_level, ubigeos=ubigeos)\n",
    "\n",
    "            for level_ubigeo in region_level_ubigeos:\n",
    "                resultados_por_nivel_region = requests.get(f'{resultados_url}/{level_ubigeo[region_level_code]}/{org[\"codigo\"]}').json()\n",
    "                nivel_region_detalle = dict(\n",
    "                    nombre=level_ubigeo[region_level_descripcion],\n",
    "                    codigo=level_ubigeo[region_level_code],\n",
    "                    codigo_padre=level_ubigeo['CDGO_PADRE'],\n",
    "                    resultados=resultados_por_nivel_region\n",
    "                )\n",
    "                resultados_detalle['resultados'].append(nivel_region_detalle)\n",
    "\n",
    "            org['resultados_tipo_elecciones'].append(resultados_detalle)  \n",
    "\n",
    "        else:\n",
    "            tipo = ''\n",
    "            url = ''\n",
    "            if tipo_eleccion == '10':\n",
    "                tipo = 'presidenciales'\n",
    "                url = resultados_elecciones_presidencialtes_url\n",
    "            elif tipo_eleccion == '11':\n",
    "                tipo = 'congresales'\n",
    "                url = resultados_elecciones_congresales_url\n",
    "            elif tipo_eleccion == '12':\n",
    "                tipo = 'parlamento_andino'\n",
    "                url = resultados_elecciones_parlamento_andino_url\n",
    "\n",
    "            resultados = requests.get(f'{url}/{org[\"codigo\"]}').json()\n",
    "            resultados_detalle = dict(resultados=resultados, tipo=tipo)\n",
    "            org['resultados_tipo_elecciones'].append(resultados_detalle)"
   ]
  },
  {
   "cell_type": "markdown",
   "metadata": {},
   "source": [
    "### Participación por organización política y tipo de elecciones"
   ]
  },
  {
   "cell_type": "code",
   "execution_count": 12,
   "metadata": {},
   "outputs": [],
   "source": [
    "participacion_por_tipo = []\n",
    "for org in organizaciones:\n",
    "    for res in org['resultados_tipo_elecciones']:\n",
    "        electores_habiles = 0\n",
    "        electores_participaron = 0\n",
    "        tipo = res['tipo']\n",
    "\n",
    "        if type(res['resultados']) == dict:\n",
    "            general_data = res['resultados']['generals']['generalData']\n",
    "            electores_habiles += int(general_data['ELECTORES_HABIL'].replace(',', ''))\n",
    "            electores_participaron += int(general_data['TOT_CIUDADANOS_VOTARON'].replace(',', ''))\n",
    "        elif type(res['resultados']) == list:\n",
    "            for sub_res in res['resultados']:\n",
    "                general_data = sub_res['resultados']['generals']['generalData']\n",
    "                electores_habiles += int(general_data['ELECTORES_HABIL'].replace(',', ''))\n",
    "                electores_participaron += int(general_data['TOT_CIUDADANOS_VOTARON'].replace(',', ''))\n",
    "\n",
    "        participacion_por_tipo.append(dict(\n",
    "            organizacion = org['organizacion'],\n",
    "            codigo = org['codigo'],\n",
    "            tipo_eleccion = tipo,\n",
    "            electores_habiles = electores_habiles,\n",
    "            electores_participaron = electores_participaron,\n",
    "        ))"
   ]
  },
  {
   "cell_type": "code",
   "execution_count": 13,
   "metadata": {},
   "outputs": [
    {
     "data": {
      "text/plain": [
       "{'organizacion': 'ACCION POPULAR',\n",
       " 'codigo': '00000002',\n",
       " 'tipo_eleccion': 'presidenciales',\n",
       " 'electores_habiles': 220351,\n",
       " 'electores_participaron': 30142}"
      ]
     },
     "execution_count": 13,
     "metadata": {},
     "output_type": "execute_result"
    }
   ],
   "source": [
    "participacion_por_tipo[0]"
   ]
  },
  {
   "cell_type": "markdown",
   "metadata": {},
   "source": [
    "### Saving to csv"
   ]
  },
  {
   "cell_type": "code",
   "execution_count": 14,
   "metadata": {},
   "outputs": [],
   "source": [
    "df = pd.DataFrame(participacion_por_tipo)"
   ]
  },
  {
   "cell_type": "code",
   "execution_count": 15,
   "metadata": {},
   "outputs": [
    {
     "data": {
      "text/html": [
       "<div>\n",
       "<style scoped>\n",
       "    .dataframe tbody tr th:only-of-type {\n",
       "        vertical-align: middle;\n",
       "    }\n",
       "\n",
       "    .dataframe tbody tr th {\n",
       "        vertical-align: top;\n",
       "    }\n",
       "\n",
       "    .dataframe thead th {\n",
       "        text-align: right;\n",
       "    }\n",
       "</style>\n",
       "<table border=\"1\" class=\"dataframe\">\n",
       "  <thead>\n",
       "    <tr style=\"text-align: right;\">\n",
       "      <th></th>\n",
       "      <th>organizacion</th>\n",
       "      <th>codigo</th>\n",
       "      <th>tipo_eleccion</th>\n",
       "      <th>electores_habiles</th>\n",
       "      <th>electores_participaron</th>\n",
       "    </tr>\n",
       "  </thead>\n",
       "  <tbody>\n",
       "    <tr>\n",
       "      <th>0</th>\n",
       "      <td>ACCION POPULAR</td>\n",
       "      <td>00000002</td>\n",
       "      <td>presidenciales</td>\n",
       "      <td>220351</td>\n",
       "      <td>30142</td>\n",
       "    </tr>\n",
       "    <tr>\n",
       "      <th>1</th>\n",
       "      <td>ACCION POPULAR</td>\n",
       "      <td>00000002</td>\n",
       "      <td>parlamento_andino</td>\n",
       "      <td>219856</td>\n",
       "      <td>29977</td>\n",
       "    </tr>\n",
       "    <tr>\n",
       "      <th>2</th>\n",
       "      <td>ACCION POPULAR</td>\n",
       "      <td>00000002</td>\n",
       "      <td>congresales</td>\n",
       "      <td>61743</td>\n",
       "      <td>9726</td>\n",
       "    </tr>\n",
       "    <tr>\n",
       "      <th>3</th>\n",
       "      <td>ALIANZA PARA EL PROGRESO</td>\n",
       "      <td>00000012</td>\n",
       "      <td>delegados_regional</td>\n",
       "      <td>224604</td>\n",
       "      <td>4807</td>\n",
       "    </tr>\n",
       "    <tr>\n",
       "      <th>4</th>\n",
       "      <td>AVANZA PAIS - PARTIDO DE INTEGRACION SOCIAL</td>\n",
       "      <td>00000016</td>\n",
       "      <td>delegados_regional</td>\n",
       "      <td>7881</td>\n",
       "      <td>362</td>\n",
       "    </tr>\n",
       "  </tbody>\n",
       "</table>\n",
       "</div>"
      ],
      "text/plain": [
       "                                  organizacion    codigo       tipo_eleccion  \\\n",
       "0                               ACCION POPULAR  00000002      presidenciales   \n",
       "1                               ACCION POPULAR  00000002   parlamento_andino   \n",
       "2                               ACCION POPULAR  00000002         congresales   \n",
       "3                     ALIANZA PARA EL PROGRESO  00000012  delegados_regional   \n",
       "4  AVANZA PAIS - PARTIDO DE INTEGRACION SOCIAL  00000016  delegados_regional   \n",
       "\n",
       "   electores_habiles  electores_participaron  \n",
       "0             220351                   30142  \n",
       "1             219856                   29977  \n",
       "2              61743                    9726  \n",
       "3             224604                    4807  \n",
       "4               7881                     362  "
      ]
     },
     "execution_count": 15,
     "metadata": {},
     "output_type": "execute_result"
    }
   ],
   "source": [
    "df.head()"
   ]
  },
  {
   "cell_type": "code",
   "execution_count": 17,
   "metadata": {},
   "outputs": [],
   "source": [
    "df.to_csv('elecciones_internas_org_politicas_peru_2020.csv', index=False)"
   ]
  }
 ],
 "metadata": {
  "kernelspec": {
   "display_name": "Python 3",
   "language": "python",
   "name": "python3"
  },
  "language_info": {
   "codemirror_mode": {
    "name": "ipython",
    "version": 3
   },
   "file_extension": ".py",
   "mimetype": "text/x-python",
   "name": "python",
   "nbconvert_exporter": "python",
   "pygments_lexer": "ipython3",
   "version": "3.8.5"
  }
 },
 "nbformat": 4,
 "nbformat_minor": 4
}
